{
 "cells": [
  {
   "cell_type": "code",
   "execution_count": null,
   "metadata": {},
   "outputs": [],
   "source": [
    "CP_LIMIT = 2500\n",
    "MODE = 'remix'"
   ]
  },
  {
   "cell_type": "markdown",
   "metadata": {},
   "source": [
    "This notebook, when run alongside a local instance of PvPoke (using XAMPP or similar), allows one to test combinations of Pokémon and derive each potential team's threat score."
   ]
  },
  {
   "cell_type": "markdown",
   "metadata": {},
   "source": [
    "## Initial experimentation"
   ]
  },
  {
   "cell_type": "markdown",
   "metadata": {},
   "source": [
    "### Imports"
   ]
  },
  {
   "cell_type": "code",
   "execution_count": null,
   "metadata": {},
   "outputs": [],
   "source": [
    "import json"
   ]
  },
  {
   "cell_type": "code",
   "execution_count": null,
   "metadata": {},
   "outputs": [],
   "source": [
    "from collections import namedtuple"
   ]
  },
  {
   "cell_type": "code",
   "execution_count": null,
   "metadata": {},
   "outputs": [],
   "source": [
    "from selenium.webdriver import Safari\n",
    "from selenium.webdriver.support import expected_conditions as EC\n",
    "from selenium.common.exceptions import NoSuchElementException\n",
    "from selenium.webdriver.common.by import By\n",
    "from selenium.webdriver.support.ui import WebDriverWait"
   ]
  },
  {
   "cell_type": "markdown",
   "metadata": {},
   "source": [
    "You may want to use a different WebDriver if you aren't using Safari on Mac. Other WebDrivers may also be less obtrusive; I don't use my laptop much nowadays so this works for me."
   ]
  },
  {
   "cell_type": "code",
   "execution_count": null,
   "metadata": {},
   "outputs": [],
   "source": [
    "import pandas as pd"
   ]
  },
  {
   "cell_type": "code",
   "execution_count": null,
   "metadata": {},
   "outputs": [],
   "source": [
    "from random import sample"
   ]
  },
  {
   "cell_type": "code",
   "execution_count": null,
   "metadata": {},
   "outputs": [],
   "source": [
    "# url = 'http://192.168.64.2/pvpoke/src/team-builder/all/1500/wigglytuff-m-0-3-4%2Cazumarill-m-0-2-1%2Cregisteel-m-0-2-1'"
   ]
  },
  {
   "cell_type": "markdown",
   "metadata": {},
   "source": [
    "### Load data"
   ]
  },
  {
   "cell_type": "code",
   "execution_count": null,
   "metadata": {},
   "outputs": [],
   "source": [
    "with open('../pvpoke/src/data/gamemaster.json', 'r') as f:\n",
    "    gm = json.load(f)"
   ]
  },
  {
   "cell_type": "code",
   "execution_count": null,
   "metadata": {},
   "outputs": [],
   "source": [
    "with open(f'../pvpoke/src/data/rankings/{MODE}/overall/rankings-{CP_LIMIT}.json') as f:\n",
    "    rankings = json.load(f)"
   ]
  },
  {
   "cell_type": "code",
   "execution_count": null,
   "metadata": {},
   "outputs": [],
   "source": [
    "with open(f'../pvpoke/src/data/overrides/{MODE}/{CP_LIMIT}.json') as f:\n",
    "    overrides = json.load(f)"
   ]
  },
  {
   "cell_type": "code",
   "execution_count": null,
   "metadata": {},
   "outputs": [],
   "source": [
    "[x for x in rankings if x['speciesId'] == 'mantine']"
   ]
  },
  {
   "cell_type": "markdown",
   "metadata": {},
   "source": [
    "### Data structures"
   ]
  },
  {
   "cell_type": "code",
   "execution_count": null,
   "metadata": {},
   "outputs": [],
   "source": [
    "Pokemon = namedtuple('Pokemon', ['name', 'fast_move', 'charged_move1', 'charged_move2'], defaults=[None])"
   ]
  },
  {
   "cell_type": "markdown",
   "metadata": {},
   "source": [
    "## Functions"
   ]
  },
  {
   "cell_type": "markdown",
   "metadata": {},
   "source": [
    "### Fill Pokébox"
   ]
  },
  {
   "cell_type": "code",
   "execution_count": null,
   "metadata": {},
   "outputs": [],
   "source": [
    "def get_moveset(pokemon_name):\n",
    "    try:\n",
    "        mon_overrides = [x for x in overrides if x['speciesId'] == pokemon_name][0]\n",
    "    except IndexError:\n",
    "        mon_overrides = {}\n",
    "    fast_move = mon_overrides.get('fastMove', get_preferred_fast_move(pokemon_name))\n",
    "    charged_moves = mon_overrides.get('chargedMoves', get_preferred_charged_moves(pokemon_name))\n",
    "    return fast_move.lower(), charged_moves[0].lower(), charged_moves[1].lower()"
   ]
  },
  {
   "cell_type": "code",
   "execution_count": null,
   "metadata": {},
   "outputs": [],
   "source": [
    "def get_preferred_fast_move(pokemon_name):\n",
    "    moves = [move for move in [species['moves']['fastMoves']\n",
    "             for species in rankings if species['speciesId'] == pokemon_name][0]]\n",
    "    return pd.Series({move['moveId']: move['uses'] for move in moves}).idxmax()"
   ]
  },
  {
   "cell_type": "code",
   "execution_count": null,
   "metadata": {},
   "outputs": [],
   "source": [
    "def get_preferred_charged_moves(pokemon_name):\n",
    "    moves = [move for move in [species['moves']['chargedMoves']\n",
    "             for species in rankings if species['speciesId'] == pokemon_name][0]]\n",
    "    return tuple(pd.Series({move['moveId']: move['uses'] for move in moves}).nlargest(2).index)"
   ]
  },
  {
   "cell_type": "code",
   "execution_count": null,
   "metadata": {},
   "outputs": [],
   "source": [
    "def generate_pokebox(*pokemon_names : str, **pokemon_with_moves : Pokemon):\n",
    "    res = {mon: Pokemon(mon, *get_moveset(mon)) for mon in pokemon_names}\n",
    "    res.update(pokemon_with_moves)\n",
    "    return res"
   ]
  },
  {
   "cell_type": "markdown",
   "metadata": {},
   "source": [
    "### Run PvPoke query"
   ]
  },
  {
   "cell_type": "code",
   "execution_count": null,
   "metadata": {},
   "outputs": [],
   "source": [
    "def poke_to_string(pokemon):\n",
    "    poke_data = [x for x in gm['pokemon'] if x['speciesId'] == pokemon.name.lower()][0]\n",
    "    if not pokemon.charged_move1 and pokemon.charged_move2:\n",
    "        pokemon.charged_move1 = pokemon.charged_move2\n",
    "        pokemon.charged_move2 = None\n",
    "    if not pokemon.fast_move and not pokemon.charged_move1:\n",
    "        moveset = get_moveset(pokemon.name)\n",
    "    else:\n",
    "        moveset = pokemon.fast_move, pokemon.charged_move1, pokemon.charged_move2\n",
    "    fast_move = list(sorted(poke_data['fastMoves'])).index(moveset[0].upper())\n",
    "    charged_move1 = list(sorted(poke_data['chargedMoves'])).index(moveset[1].upper()) + 1\n",
    "    charged_move2 = list(sorted(poke_data['chargedMoves'])).index(moveset[2].upper()) + 1 if pokemon.charged_move2 else 0\n",
    "    pokes_missing_return = {'lapras'}\n",
    "    if pokemon.name.endswith('_shadow'):\n",
    "        if pokemon.charged_move1 > 'frustration':\n",
    "            charged_move1 += 1\n",
    "        if pokemon.charged_move2 and pokemon.charged_move2 > 'frustration':\n",
    "            charged_move2 += 1\n",
    "    elif pokemon.name in gm['shadowPokemon'] and pokemon.name not in pokes_missing_return:\n",
    "        if pokemon.charged_move1 > 'return':\n",
    "            charged_move1 += 1\n",
    "        if pokemon.charged_move2 and pokemon.charged_move2 > 'return':\n",
    "            charged_move2 += 1\n",
    "    return f'{pokemon.name.lower()}-m-{fast_move}-{charged_move1}-{charged_move2}'"
   ]
  },
  {
   "cell_type": "code",
   "execution_count": null,
   "metadata": {},
   "outputs": [],
   "source": [
    "def url_from_pokes(*pokemon):\n",
    "    return f'http://192.168.64.2/pvpoke/src/team-builder/{MODE}/{CP_LIMIT}/' + '%2C'.join(poke_to_string(mon) for mon in pokemon)"
   ]
  },
  {
   "cell_type": "markdown",
   "metadata": {},
   "source": [
    "#### Selenium"
   ]
  },
  {
   "cell_type": "code",
   "execution_count": null,
   "metadata": {},
   "outputs": [],
   "source": [
    "class element_is_not_empty(object):\n",
    "\n",
    "    def __init__(self, locator):\n",
    "        self.locator = locator\n",
    "\n",
    "    def __call__(self, driver):\n",
    "        element = driver.find_element(*self.locator)   # Finding the referenced element\n",
    "        if element.text == '':\n",
    "            return False\n",
    "        else:\n",
    "            return element"
   ]
  },
  {
   "cell_type": "code",
   "execution_count": null,
   "metadata": {},
   "outputs": [],
   "source": [
    "def get_threat_score(url):\n",
    "    with Safari(quiet=True) as driver:\n",
    "        driver.get(url)\n",
    "        wait = WebDriverWait(driver, 10, ignored_exceptions=[NoSuchElementException])\n",
    "        threat_score = int(wait.until(element_is_not_empty((By.CSS_SELECTOR, '.threat-score'))).text)\n",
    "    return threat_score"
   ]
  },
  {
   "cell_type": "markdown",
   "metadata": {},
   "source": [
    "## Run"
   ]
  },
  {
   "cell_type": "markdown",
   "metadata": {},
   "source": [
    "### Check for Pokémon with a move"
   ]
  },
  {
   "cell_type": "code",
   "execution_count": null,
   "metadata": {
    "scrolled": true
   },
   "outputs": [],
   "source": [
    "# test_move = 'focus_blast'\n",
    "# shadow = False\n",
    "# [\n",
    "#     x['speciesId'] for x in gm['pokemon']\n",
    "#     if (x['speciesId'].endswith('_shadow') if shadow else True)\n",
    "#     if test_move.upper() in x.get('chargedMoves', [])\n",
    "# ]#[0]"
   ]
  },
  {
   "cell_type": "markdown",
   "metadata": {},
   "source": [
    "### Build Pokéboxes"
   ]
  },
  {
   "cell_type": "code",
   "execution_count": null,
   "metadata": {},
   "outputs": [],
   "source": [
    "# remix = generate_pokebox(*[\n",
    "#     'greedent', 'ferrothorn', 'serperior', 'drifblim',\n",
    "#     'seaking', 'abomasnow', 'empoleon',\n",
    "#     'beedrill', 'wigglytuff', 'machamp', 'melmetal',\n",
    "#     'charizard', 'toxicroak',],\n",
    "#     registeel=Pokemon('registeel', 'lock_on', 'focus_blast'),\n",
    "#     lapras=Pokemon('lapras', 'ice_shard', 'surf', 'ice_beam'),\n",
    "# )"
   ]
  },
  {
   "cell_type": "code",
   "execution_count": null,
   "metadata": {},
   "outputs": [],
   "source": [
    "# gl_non_remix = generate_pokebox(*[\n",
    "#     'stunfisk_galarian', 'altaria', 'skarmory', 'vigoroth',\n",
    "#     'galvantula', 'bastiodon', 'jellicent', 'politoed',\n",
    "#     'venusaur', 'scrafty',],\n",
    "#     umbreon=Pokemon('umbreon', 'snarl', 'psychic', 'foul_play'),\n",
    "#     azumarill=Pokemon('azumarill', 'bubble', 'play_rough', 'hydro_pump'),\n",
    "#     marowak_alolan=Pokemon('marowak_alolan', 'fire_spin', 'bone_club', 'shadow_ball'),\n",
    "# )"
   ]
  },
  {
   "cell_type": "code",
   "execution_count": null,
   "metadata": {},
   "outputs": [],
   "source": [
    "ul_premier = generate_pokebox(\n",
    "    *[\n",
    "        'sylveon', 'gallade', 'snorlax', 'gyarados',\n",
    "        'electivire', 'gengar', 'charizard', 'sirfetchd',\n",
    "    ],\n",
    "    togekiss=Pokemon('togekiss', 'charm', 'aerial_ace'),\n",
    "    dragonite=Pokemon('dragonite', 'dragon_tail', 'dragon_claw', 'hurricane'),\n",
    "    gardevoir_shadow=Pokemon('gardevoir_shadow', 'charm', 'synchronoise'),\n",
    ")"
   ]
  },
  {
   "cell_type": "code",
   "execution_count": null,
   "metadata": {},
   "outputs": [],
   "source": [
    "ul_total = {\n",
    "    **ul_premier,\n",
    "    **generate_pokebox(\n",
    "        lugia=Pokemon('lugia', 'dragon_tail', 'sky_attack'),\n",
    "        melmetal=Pokemon('melmetal', 'thunder_shock', 'rock_slide'),\n",
    "        giratina_origin=Pokemon('giratina_origin', 'shadow_claw', 'shadow_ball'),\n",
    "    )\n",
    "}"
   ]
  },
  {
   "cell_type": "code",
   "execution_count": null,
   "metadata": {},
   "outputs": [],
   "source": [
    "ul_remix = ul_total.copy()\n",
    "ul_remix.pop('togekiss')\n",
    "ul_remix.pop('melmetal')"
   ]
  },
  {
   "cell_type": "code",
   "execution_count": null,
   "metadata": {},
   "outputs": [],
   "source": [
    "# gl_pokebox = {**remix, **non_remix}"
   ]
  },
  {
   "cell_type": "markdown",
   "metadata": {},
   "source": [
    "### Set Pokébox"
   ]
  },
  {
   "cell_type": "code",
   "execution_count": null,
   "metadata": {},
   "outputs": [],
   "source": [
    "pokebox = ul_remix"
   ]
  },
  {
   "cell_type": "code",
   "execution_count": null,
   "metadata": {},
   "outputs": [],
   "source": [
    "# quick check to make sure all strings can be generated"
   ]
  },
  {
   "cell_type": "code",
   "execution_count": null,
   "metadata": {},
   "outputs": [],
   "source": [
    "def check_pokes(*pokemon):\n",
    "    for mon in pokemon:\n",
    "        poke_to_string(mon)"
   ]
  },
  {
   "cell_type": "code",
   "execution_count": null,
   "metadata": {},
   "outputs": [],
   "source": [
    "check_pokes(*pokebox.values())"
   ]
  },
  {
   "cell_type": "code",
   "execution_count": null,
   "metadata": {},
   "outputs": [],
   "source": [
    "# quick test"
   ]
  },
  {
   "cell_type": "code",
   "execution_count": null,
   "metadata": {},
   "outputs": [],
   "source": [
    "get_threat_score(url_from_pokes(*[pokebox[x] for x in sample(list(pokebox), 3)]))"
   ]
  },
  {
   "cell_type": "code",
   "execution_count": null,
   "metadata": {},
   "outputs": [],
   "source": [
    "# pokebox = {\n",
    "#     'stunfisk_galarian': Pokemon('stunfisk_galarian', 'mud_shot', 'rock_slide', None),\n",
    "#     'altaria': Pokemon('altaria', 'dragon_breath', 'sky_attack', None),\n",
    "#     'wigglytuff': Pokemon('wigglytuff', 'charm', 'ice_beam', 'play_rough'),\n",
    "#     'hypno': Pokemon('hypno', 'confusion', 'focus_blast', None),\n",
    "#     'umbreon': Pokemon('umbreon', 'snarl', 'psychic', None),\n",
    "#     'skarmory': Pokemon('skarmory', 'air_slash', 'sky_attack', None),\n",
    "#     'toxicroak': Pokemon('toxicroak', 'poison_jab', 'sludge_bomb', None),\n",
    "#     'machamp': Pokemon('machamp', 'counter', 'cross_chop', 'rock_slide'),\n",
    "#     'escavalier': Pokemon('escavalier', 'counter', 'drill_run', None),\n",
    "#     'registeel': Pokemon('registeel', 'lock_on', 'flash_cannon', None),\n",
    "# }"
   ]
  },
  {
   "cell_type": "markdown",
   "metadata": {},
   "source": [
    "## Test all combinations"
   ]
  },
  {
   "cell_type": "markdown",
   "metadata": {},
   "source": [
    "Execution time increases significantly with each Pokemon added to the box. There are a LOT of unique combinations for 30 Pokemon."
   ]
  },
  {
   "cell_type": "code",
   "execution_count": null,
   "metadata": {},
   "outputs": [],
   "source": [
    "import itertools"
   ]
  },
  {
   "cell_type": "code",
   "execution_count": null,
   "metadata": {},
   "outputs": [],
   "source": [
    "from random import shuffle, sample"
   ]
  },
  {
   "cell_type": "code",
   "execution_count": null,
   "metadata": {},
   "outputs": [],
   "source": [
    "teams =  list(itertools.combinations(pokebox.values(), 3))\n",
    "shuffle(teams)"
   ]
  },
  {
   "cell_type": "code",
   "execution_count": null,
   "metadata": {},
   "outputs": [],
   "source": [
    "length = len(teams)\n",
    "length"
   ]
  },
  {
   "cell_type": "code",
   "execution_count": null,
   "metadata": {},
   "outputs": [],
   "source": [
    "scores2 = pd.DataFrame()"
   ]
  },
  {
   "cell_type": "code",
   "execution_count": null,
   "metadata": {},
   "outputs": [],
   "source": [
    "from tqdm import tqdm"
   ]
  },
  {
   "cell_type": "code",
   "execution_count": null,
   "metadata": {},
   "outputs": [],
   "source": [
    "teams = iter(teams)"
   ]
  },
  {
   "cell_type": "code",
   "execution_count": null,
   "metadata": {
    "hide_input": false,
    "scrolled": true
   },
   "outputs": [],
   "source": [
    "for team in tqdm(teams, total=length):\n",
    "    try:\n",
    "        url = url_from_pokes(*team)\n",
    "        score = get_threat_score(url)\n",
    "        tqdm.write(str([x.name for x in team] + [score]))\n",
    "        scores2 = scores2.append(pd.Series([x.name for x in team] + [score]), ignore_index=True)\n",
    "    except Exception:\n",
    "        scores2 = scores2.append(pd.Series([x.name for x in team] + [10000]), ignore_index=True)"
   ]
  },
  {
   "cell_type": "code",
   "execution_count": null,
   "metadata": {},
   "outputs": [],
   "source": [
    "scores2.sort_values(3).nsmallest(20, 3)"
   ]
  },
  {
   "cell_type": "code",
   "execution_count": null,
   "metadata": {},
   "outputs": [],
   "source": [
    "scores2.sort_values(3).to_csv('ul_remix.csv', index=False, header=None)"
   ]
  },
  {
   "cell_type": "code",
   "execution_count": null,
   "metadata": {},
   "outputs": [],
   "source": [
    "scores.nsmallest(20, 3)"
   ]
  },
  {
   "cell_type": "code",
   "execution_count": null,
   "metadata": {},
   "outputs": [],
   "source": [
    "print('pokemon1 | pokemon2 | pokemon3 | score')\n",
    "print(' :--: | :--: | :--: | :--: ')\n",
    "for row in scores2.nsmallest(20, 3).sort_values(3).astype(int, errors='ignore').iterrows():\n",
    "    print(' | '.join(row[1].astype(str).tolist()))"
   ]
  },
  {
   "cell_type": "code",
   "execution_count": null,
   "metadata": {},
   "outputs": [],
   "source": [
    "scores.nsmallest(10, [3])"
   ]
  },
  {
   "cell_type": "code",
   "execution_count": null,
   "metadata": {},
   "outputs": [],
   "source": [
    "my_team = ['ferrothorn', 'machamp']"
   ]
  },
  {
   "cell_type": "code",
   "execution_count": null,
   "metadata": {},
   "outputs": [],
   "source": [
    "scores[scores.apply(lambda x: all(y in x.tolist() for y in my_team), axis=1)].sort_values(3)"
   ]
  },
  {
   "cell_type": "code",
   "execution_count": null,
   "metadata": {
    "hide_input": true
   },
   "outputs": [],
   "source": []
  }
 ],
 "metadata": {
  "kernelspec": {
   "display_name": "Python 3",
   "language": "python",
   "name": "python3"
  },
  "language_info": {
   "codemirror_mode": {
    "name": "ipython",
    "version": 3
   },
   "file_extension": ".py",
   "mimetype": "text/x-python",
   "name": "python",
   "nbconvert_exporter": "python",
   "pygments_lexer": "ipython3",
   "version": "3.8.1"
  },
  "toc": {
   "base_numbering": 1,
   "nav_menu": {},
   "number_sections": true,
   "sideBar": true,
   "skip_h1_title": false,
   "title_cell": "Table of Contents",
   "title_sidebar": "Contents",
   "toc_cell": false,
   "toc_position": {},
   "toc_section_display": true,
   "toc_window_display": false
  }
 },
 "nbformat": 4,
 "nbformat_minor": 4
}
